{
 "cells": [
  {
   "cell_type": "code",
   "execution_count": 3,
   "metadata": {},
   "outputs": [],
   "source": [
    "import pandas as pd\n",
    "import numpy as np\n",
    "import seaborn as sns\n",
    "import matplotlib.pyplot as plt\n",
    "from sklearn.model_selection import train_test_split\n",
    "from sklearn.ensemble import RandomForestRegressor\n",
    "from sklearn.metrics import mean_absolute_error, mean_squared_error\n",
    "import urllib.request"
   ]
  },
  {
   "cell_type": "code",
   "execution_count": null,
   "metadata": {},
   "outputs": [],
   "source": [
    "# Carga de datos"
   ]
  },
  {
   "cell_type": "code",
   "execution_count": 4,
   "metadata": {},
   "outputs": [],
   "source": [
    "url = '../Data/train.csv'\n",
    "url2 = '../Data/test.csv'\n",
    "train_df = pd.read_csv(url)\n",
    "test = pd.read_csv(url2)"
   ]
  },
  {
   "cell_type": "code",
   "execution_count": 5,
   "metadata": {},
   "outputs": [],
   "source": [
    "def analisis_data(df):\n",
    "    print(\"Dimensiones del DataFrame:\", df.shape)\n",
    "    print(\"\\nInformación del DataFrame:\")\n",
    "    print(df.info())\n",
    "    print(\"\\nEstadísticas descriptivas:\")\n",
    "    print(df.describe())\n",
    "    print(\"\\nValores nulos por columna:\")\n",
    "    print(df.isnull().sum())"
   ]
  },
  {
   "cell_type": "code",
   "execution_count": 8,
   "metadata": {},
   "outputs": [],
   "source": [
    "def preprocessado(df):\n",
    "    df = df.copy()\n",
    "    \n",
    "    df['Ram'] = df['Ram'].str.extract('(\\d+)').astype(int)\n",
    "    df['Weight'] = df['Weight'].str.extract('([\\d.]+)').astype(float)\n",
    "    df['Memory_Primary'] = df['Memory'].str.extract('(\\d+)').astype(float)\n",
    "    df['Memory_Type'] = df['Memory'].str.extract('(SSD|HDD)').fillna('Other')\n",
    "    df['OpSys'] = df['OpSys'].apply(lambda x: 'Windows' if 'Windows' in str(x)\n",
    "                                   else 'Mac' if 'Mac' in str(x)\n",
    "                                   else 'Linux' if 'Linux' in str(x)\n",
    "                                   else 'Other')\n",
    "    df['Resolution'] = df['ScreenResolution'].str.extract('(\\d+x\\d+)').fillna('unknown')\n",
    "    df['TouchScreen'] = df['ScreenResolution'].str.contains('Touch').astype(int)\n",
    "    return df"
   ]
  },
  {
   "cell_type": "code",
   "execution_count": 9,
   "metadata": {},
   "outputs": [],
   "source": [
    "def creacion(df):\n",
    "    df = df.copy()\n",
    "    top_companies = ['Dell', 'HP', 'Lenovo', 'Asus', 'Acer']\n",
    "    df['Company_Tier'] = df['Company'].apply(lambda x: x if x in top_companies else 'Other')\n",
    "    df['Screen_Weight_Ratio'] = df['Inches'] / df['Weight']\n",
    "    df['Cpu_Brand'] = df['Cpu'].apply(lambda x: 'Intel' if 'Intel' in x \n",
    "                                     else 'AMD' if 'AMD' in x \n",
    "                                     else 'Other')\n",
    "    \n",
    "    return df"
   ]
  },
  {
   "cell_type": "code",
   "execution_count": 10,
   "metadata": {},
   "outputs": [],
   "source": [
    "def sample(df, sample_size=0.7, random_state=42):\n",
    "    # Crear bins de precios para estratificación\n",
    "    df['Price_Bin'] = pd.qcut(df['Price_euros'], q=5, labels=False)\n",
    "    \n",
    "    # Realizar el muestreo estratificado\n",
    "    sample_df, remaining_df = train_test_split(\n",
    "        df,\n",
    "        train_size=sample_size,\n",
    "        stratify=df['Price_Bin'],\n",
    "        random_state=random_state\n",
    "    )\n",
    "    \n",
    "    # Eliminar la columna auxiliar de bins\n",
    "    sample_df = sample_df.drop('Price_Bin', axis=1)\n",
    "    remaining_df = remaining_df.drop('Price_Bin', axis=1)\n",
    "    \n",
    "    return sample_df, remaining_df"
   ]
  },
  {
   "cell_type": "code",
   "execution_count": 11,
   "metadata": {},
   "outputs": [
    {
     "name": "stdout",
     "output_type": "stream",
     "text": [
      "=== Análisis del conjunto de entrenamiento ===\n",
      "Dimensiones del DataFrame: (912, 13)\n",
      "\n",
      "Información del DataFrame:\n",
      "<class 'pandas.core.frame.DataFrame'>\n",
      "RangeIndex: 912 entries, 0 to 911\n",
      "Data columns (total 13 columns):\n",
      " #   Column            Non-Null Count  Dtype  \n",
      "---  ------            --------------  -----  \n",
      " 0   laptop_ID         912 non-null    int64  \n",
      " 1   Company           912 non-null    object \n",
      " 2   Product           912 non-null    object \n",
      " 3   TypeName          912 non-null    object \n",
      " 4   Inches            912 non-null    float64\n",
      " 5   ScreenResolution  912 non-null    object \n",
      " 6   Cpu               912 non-null    object \n",
      " 7   Ram               912 non-null    object \n",
      " 8   Memory            912 non-null    object \n",
      " 9   Gpu               912 non-null    object \n",
      " 10  OpSys             912 non-null    object \n",
      " 11  Weight            912 non-null    object \n",
      " 12  Price_euros       912 non-null    float64\n",
      "dtypes: float64(2), int64(1), object(10)\n",
      "memory usage: 92.8+ KB\n",
      "None\n",
      "\n",
      "Estadísticas descriptivas:\n",
      "         laptop_ID      Inches  Price_euros\n",
      "count   912.000000  912.000000   912.000000\n",
      "mean    660.868421   14.957018  1109.652752\n",
      "std     382.437227    1.428753   705.906280\n",
      "min       1.000000   10.100000   191.900000\n",
      "25%     328.250000   14.000000   572.750000\n",
      "50%     658.000000   15.600000   949.000000\n",
      "75%     994.250000   15.600000  1468.000000\n",
      "max    1320.000000   18.400000  5499.000000\n",
      "\n",
      "Valores nulos por columna:\n",
      "laptop_ID           0\n",
      "Company             0\n",
      "Product             0\n",
      "TypeName            0\n",
      "Inches              0\n",
      "ScreenResolution    0\n",
      "Cpu                 0\n",
      "Ram                 0\n",
      "Memory              0\n",
      "Gpu                 0\n",
      "OpSys               0\n",
      "Weight              0\n",
      "Price_euros         0\n",
      "dtype: int64\n",
      "\n",
      "=== Información de la muestra estratificada ===\n",
      "Tamaño de la muestra: 638\n",
      "Tamaño del conjunto restante: 274\n"
     ]
    }
   ],
   "source": [
    "def main():\n",
    "  \n",
    "    # Análisis inicial\n",
    "    print(\"=== Análisis del conjunto de entrenamiento ===\")\n",
    "    analisis_data(train_df)\n",
    "    \n",
    "    # Preprocesamiento\n",
    "    train_processed = preprocessado(train_df)\n",
    "    train_processed = creacion(train_processed)\n",
    "    \n",
    "    # Crear muestra estratificada\n",
    "    sample_df, remaining_df = sample(train_processed)\n",
    "    \n",
    "    # Mostrar información de la muestra\n",
    "    print(\"\\n=== Información de la muestra estratificada ===\")\n",
    "    print(\"Tamaño de la muestra:\", len(sample_df))\n",
    "    print(\"Tamaño del conjunto restante:\", len(remaining_df))\n",
    "    sample_df.to_csv('train_sample.csv', index=False)\n",
    "    remaining_df.to_csv('train_validation.csv', index=False)\n",
    "    \n",
    "    return sample_df, remaining_df\n",
    "\n",
    "if __name__ == \"__main__\":\n",
    "    sample_df, remaining_df = main()"
   ]
  }
 ],
 "metadata": {
  "kernelspec": {
   "display_name": "computadoras-sS6ZwaFG-py3.11",
   "language": "python",
   "name": "python3"
  },
  "language_info": {
   "codemirror_mode": {
    "name": "ipython",
    "version": 3
   },
   "file_extension": ".py",
   "mimetype": "text/x-python",
   "name": "python",
   "nbconvert_exporter": "python",
   "pygments_lexer": "ipython3",
   "version": "3.11.9"
  }
 },
 "nbformat": 4,
 "nbformat_minor": 2
}
